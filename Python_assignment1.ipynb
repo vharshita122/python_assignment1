{
  "nbformat": 4,
  "nbformat_minor": 0,
  "metadata": {
    "colab": {
      "provenance": []
    },
    "kernelspec": {
      "name": "python3",
      "display_name": "Python 3"
    },
    "language_info": {
      "name": "python"
    }
  },
  "cells": [
    {
      "cell_type": "code",
      "execution_count": null,
      "metadata": {
        "colab": {
          "base_uri": "https://localhost:8080/"
        },
        "id": "vg7KgornsBsL",
        "outputId": "194155d1-08f3-4c16-8fbe-5cb9d2d9d8a0"
      },
      "outputs": [
        {
          "output_type": "stream",
          "name": "stdout",
          "text": [
            "Enter the number a: 2\n",
            "Enter the number b: 5\n",
            "7\n"
          ]
        }
      ],
      "source": [
        "#1\n",
        " a = int(input(\"Enter the number a: \"  ))\n",
        " b = int(input(\"Enter the number b: \" ))\n",
        " sum = a+b\n",
        "print(sum)\n"
      ]
    },
    {
      "cell_type": "code",
      "source": [
        "#2\n",
        "n = int(input(\"Enter the number\"))\n",
        "if n%2==0:\n",
        "   print(\"even no\",n)\n",
        "else:\n",
        "   print(\"odd no\",n)"
      ],
      "metadata": {
        "colab": {
          "base_uri": "https://localhost:8080/"
        },
        "id": "z8PIb8SKuUA7",
        "outputId": "a8b3dd7b-254f-4816-e0e3-d90d93193b53"
      },
      "execution_count": null,
      "outputs": [
        {
          "output_type": "stream",
          "name": "stdout",
          "text": [
            "Enter the number3\n",
            "odd no 3\n"
          ]
        }
      ]
    },
    {
      "cell_type": "code",
      "source": [
        "#3\n",
        "num = int(input(\"Enter non - negative number:\"))\n",
        "if num<0:\n",
        "   print(\"Factorial is not defined for negative no.\")\n",
        "   exit()\n",
        "   if num == 0:\n",
        "      factorial = 1\n",
        "else:\n",
        "  factorial = 1\n",
        "  for i in range(1, num + 1):\n",
        "    factorial *= i\n",
        "print(\"factorial of\",num,\"is: \",factorial)\n",
        "\n"
      ],
      "metadata": {
        "colab": {
          "base_uri": "https://localhost:8080/"
        },
        "id": "NNKFPo5XwgVv",
        "outputId": "4069beb7-b74a-41d5-a5d7-3f776ff7d30f"
      },
      "execution_count": null,
      "outputs": [
        {
          "output_type": "stream",
          "name": "stdout",
          "text": [
            "Enter non - negative number:5\n",
            "factorial of 5 is:  120\n"
          ]
        }
      ]
    },
    {
      "cell_type": "code",
      "source": [
        "#4\n",
        "name = input(\"what is ypur name?\")\n",
        "print(\"Hello\",name,\" ,nice to meet  you!!\")"
      ],
      "metadata": {
        "colab": {
          "base_uri": "https://localhost:8080/"
        },
        "id": "nAEOXgWYz-6Y",
        "outputId": "f1e3e8ae-51c9-404f-c7b8-2e69e20b1e22"
      },
      "execution_count": null,
      "outputs": [
        {
          "output_type": "stream",
          "name": "stdout",
          "text": [
            "what is ypur name?Harshita\n",
            "Hello Harshita  ,nice to meet  you!!\n"
          ]
        }
      ]
    },
    {
      "cell_type": "code",
      "source": [
        "#5\n",
        "info =input(\"Enter Text:\")\n",
        "\n",
        "with open('sample_text.txt', 'w') as file:\n",
        "    file.write(info)\n",
        "\n",
        "print(\"Text has been written to sample_text.txt\")"
      ],
      "metadata": {
        "colab": {
          "base_uri": "https://localhost:8080/"
        },
        "id": "P9SGeegT11i_",
        "outputId": "1250f054-81da-4cf3-c7ca-e36ee2d848e7"
      },
      "execution_count": null,
      "outputs": [
        {
          "output_type": "stream",
          "name": "stdout",
          "text": [
            "Enter Text:hello. how are you?\n",
            "Text has been written to sample_text.txt\n"
          ]
        }
      ]
    },
    {
      "cell_type": "code",
      "source": [
        "#6\n",
        "with open('sample_text.txt', 'r') as file:\n",
        "    info = file.read()\n",
        "\n",
        "print(info)"
      ],
      "metadata": {
        "colab": {
          "base_uri": "https://localhost:8080/"
        },
        "id": "XQSYgG1w12MX",
        "outputId": "ea46bb92-955b-4c4f-f4f6-f8d81d049e78"
      },
      "execution_count": null,
      "outputs": [
        {
          "output_type": "stream",
          "name": "stdout",
          "text": [
            "hello. how are you?\n"
          ]
        }
      ]
    },
    {
      "cell_type": "code",
      "source": [
        "user_string = input(\"Enter the string: \")\n",
        "print(len(user_string))"
      ],
      "metadata": {
        "colab": {
          "base_uri": "https://localhost:8080/"
        },
        "id": "HWCkPhN41L4k",
        "outputId": "837f918e-65e2-4064-a2d1-7e0be9a4ba16"
      },
      "execution_count": null,
      "outputs": [
        {
          "output_type": "stream",
          "name": "stdout",
          "text": [
            "Enter the string: Hello\n",
            "5\n"
          ]
        }
      ]
    },
    {
      "cell_type": "code",
      "source": [
        "# 7 contatetion\n",
        "str1=\"Hello\"\n",
        "str2 = \" \"\n",
        "str3 = \" World\"\n",
        "print(str1+str2+str3)"
      ],
      "metadata": {
        "colab": {
          "base_uri": "https://localhost:8080/"
        },
        "id": "QARXVn5P2wAA",
        "outputId": "fd84f3e6-6efd-40f5-e2f9-ec4ebd454294"
      },
      "execution_count": null,
      "outputs": [
        {
          "output_type": "stream",
          "name": "stdout",
          "text": [
            "Hello  World\n"
          ]
        }
      ]
    },
    {
      "cell_type": "code",
      "source": [
        " #8\n",
        "str1=\" hello friends! how are you? \"\n",
        "print('friend'in str1)\n",
        "print('bye'in str1)"
      ],
      "metadata": {
        "colab": {
          "base_uri": "https://localhost:8080/"
        },
        "id": "UacjaGv93JmC",
        "outputId": "8c56978f-0d7e-4797-f252-71c0ac872a77"
      },
      "execution_count": null,
      "outputs": [
        {
          "output_type": "stream",
          "name": "stdout",
          "text": [
            "True\n",
            "False\n"
          ]
        }
      ]
    },
    {
      "cell_type": "code",
      "source": [
        "#9\n",
        "str1= (\"Hello all\")\n",
        "print(str1.upper())"
      ],
      "metadata": {
        "colab": {
          "base_uri": "https://localhost:8080/"
        },
        "id": "_dt--yJO3nJJ",
        "outputId": "95e442fc-bcdb-4e22-c9a0-f4259080fbea"
      },
      "execution_count": null,
      "outputs": [
        {
          "output_type": "stream",
          "name": "stdout",
          "text": [
            "HELLO ALL\n"
          ]
        }
      ]
    },
    {
      "cell_type": "code",
      "source": [
        "#10\n",
        "num = int(input(\"Enter a number: \"))\n",
        "a, b = 0, 1\n",
        "print(\"First\", num, \"numbers in the Fibonacci sequence:\")\n",
        "for i in range(num):\n",
        "    print(a)\n",
        "    a, b = b, a + b"
      ],
      "metadata": {
        "colab": {
          "base_uri": "https://localhost:8080/"
        },
        "id": "RgrPDYTO4hgu",
        "outputId": "97328c1d-78ef-4475-d3fd-92b2d115cf09"
      },
      "execution_count": null,
      "outputs": [
        {
          "output_type": "stream",
          "name": "stdout",
          "text": [
            "Enter a number: 4\n",
            "First 4 numbers in the Fibonacci sequence:\n",
            "0\n",
            "1\n",
            "1\n",
            "2\n"
          ]
        }
      ]
    },
    {
      "cell_type": "code",
      "source": [
        "#11\n",
        "number = int(input(\"Enter a non-negative number: \"))\n",
        "sum_of_digits = 0\n",
        "while number > 0:\n",
        "    digit = number % 10\n",
        "    sum_of_digits += digit\n",
        "    number //= 10\n",
        "print(\"Sum of digits:\", sum_of_digits)"
      ],
      "metadata": {
        "colab": {
          "base_uri": "https://localhost:8080/"
        },
        "id": "a566GfGW4h62",
        "outputId": "b0a30860-7afb-4e37-d461-bda7e919d1c5"
      },
      "execution_count": null,
      "outputs": [
        {
          "output_type": "stream",
          "name": "stdout",
          "text": [
            "Enter a non-negative number: 54\n",
            "Sum of digits: 9\n"
          ]
        }
      ]
    },
    {
      "cell_type": "code",
      "source": [
        "#12\n",
        "current_year = int(input(\"enter the current year: \"))\n",
        "birth_year = int(input(\"Enter your birth year: \"))\n",
        "age = current_year - birth_year\n",
        "print(\"you are\",age,\"years old\")"
      ],
      "metadata": {
        "colab": {
          "base_uri": "https://localhost:8080/"
        },
        "id": "4ZTCIk1A5tnn",
        "outputId": "1ecbebfe-bd62-4858-a2f5-f6894ead4f02"
      },
      "execution_count": null,
      "outputs": [
        {
          "output_type": "stream",
          "name": "stdout",
          "text": [
            "enter the current year: 2024\n",
            "Enter your birth year: 2004\n",
            "you are 20 years old\n"
          ]
        }
      ]
    },
    {
      "cell_type": "code",
      "source": [
        "#14\n",
        "lines = []\n",
        "print(\"Enter multiple lines of text (press Enter on an empty line to finish):\")\n",
        "while True:\n",
        "    line = input()\n",
        "    if line == \"\":\n",
        "        break\n",
        "    lines.append(line)\n",
        "print(\"You entered:\")\n",
        "for line in lines:\n",
        "    print(line)"
      ],
      "metadata": {
        "colab": {
          "base_uri": "https://localhost:8080/"
        },
        "id": "26rskrvL6kVP",
        "outputId": "daed15f2-4f5b-405b-a8d6-27a86a20c18c"
      },
      "execution_count": null,
      "outputs": [
        {
          "output_type": "stream",
          "name": "stdout",
          "text": [
            "Enter multiple lines of text (press Enter on an empty line to finish):\n",
            "this line 1.\n",
            "this is line 2\n",
            "\n",
            "You entered:\n",
            "this line 1.\n",
            "this is line 2\n"
          ]
        }
      ]
    },
    {
      "cell_type": "code",
      "source": [
        "# 15\n",
        "import csv\n",
        "filename = 'username.csv'\n",
        "with open(filename, newline='') as csvfile:\n",
        "    csvreader = csv.reader(csvfile)\n",
        "    for row in csvreader:\n",
        "        print(', '.join(row))"
      ],
      "metadata": {
        "colab": {
          "base_uri": "https://localhost:8080/"
        },
        "id": "pPOuoSAB66PJ",
        "outputId": "f0c7054a-4166-4de3-9b5c-7b988a5f431c"
      },
      "execution_count": 37,
      "outputs": [
        {
          "output_type": "stream",
          "name": "stdout",
          "text": [
            "Username; Identifier;First name;Last name\n",
            "booker12;9012;Rachel;Booker\n",
            "grey07;2070;Laura;Grey\n",
            "johnson81;4081;Craig;Johnson\n",
            "jenkins46;9346;Mary;Jenkins\n",
            "smith79;5079;Jamie;Smith\n",
            "\n"
          ]
        }
      ]
    },
    {
      "cell_type": "code",
      "source": [
        "#16\n",
        "s=input(\"Enter a string:\")\n",
        "all_freq = {}\n",
        "for i in s:\n",
        "    if i in all_freq:\n",
        "        all_freq[i] += 1\n",
        "    else:\n",
        "        all_freq[i] = 1\n",
        "print(\"Count of all characters in entered string is :\\n \",all_freq)"
      ],
      "metadata": {
        "colab": {
          "base_uri": "https://localhost:8080/"
        },
        "id": "SoTjC86A7Aux",
        "outputId": "c7e770fe-14b3-4760-e1e8-7bf69415113b"
      },
      "execution_count": null,
      "outputs": [
        {
          "output_type": "stream",
          "name": "stdout",
          "text": [
            "Enter a string:Hello.How are you?\n",
            "Count of all characters in entered string is :\n",
            "  {'H': 2, 'e': 2, 'l': 2, 'o': 3, '.': 1, 'w': 1, ' ': 2, 'a': 1, 'r': 1, 'y': 1, 'u': 1, '?': 1}\n"
          ]
        }
      ]
    },
    {
      "cell_type": "code",
      "source": [
        "#17\n",
        "user_string = input(\"Enter the string:\")\n",
        "title_case = user_string.title()\n",
        "print(title_case)"
      ],
      "metadata": {
        "colab": {
          "base_uri": "https://localhost:8080/"
        },
        "id": "XAMVaUHmLaEN",
        "outputId": "5469db3f-3c50-46af-dce8-36b42fa85e44"
      },
      "execution_count": null,
      "outputs": [
        {
          "output_type": "stream",
          "name": "stdout",
          "text": [
            "Enter the string:hello baccho\n",
            "Hello Baccho\n"
          ]
        }
      ]
    },
    {
      "cell_type": "code",
      "source": [
        "#18\n",
        "str1=input(\"Enter first String:\")\n",
        "str2=input(\"Enter second String:\")\n",
        "if len(str1) != len(str2):\n",
        "       flag= False\n",
        "elif sorted(str1) == sorted(str2):\n",
        "        flag=True\n",
        "else:\n",
        "        flag=False\n",
        "if flag:\n",
        "    print(\"The two strings are anagrams.\")\n",
        "else:\n",
        "    print(\"The two strings are not anagrams.\")\n"
      ],
      "metadata": {
        "colab": {
          "base_uri": "https://localhost:8080/"
        },
        "id": "b4SaKhjkMB8U",
        "outputId": "8487f2bc-a663-4f66-93ed-e4dd799cdba8"
      },
      "execution_count": null,
      "outputs": [
        {
          "output_type": "stream",
          "name": "stdout",
          "text": [
            "Enter first String:race\n",
            "Enter second String:care\n",
            "The two strings are anagrams.\n"
          ]
        }
      ]
    },
    {
      "cell_type": "code",
      "source": [
        "#19\n",
        "\n",
        "s=input(\"Enter a string:\")\n",
        "l=[]\n",
        "for i in s:\n",
        "    l.append(i)\n",
        "for i in l:\n",
        "    if i in '''\"!-:;\"',.?\\\"\"''' :\n",
        "       l.remove(i)\n",
        "s1=\"\"\n",
        "for i in l:\n",
        "    s1+=i\n",
        "print(\"String without punctuation marks:\",s1)"
      ],
      "metadata": {
        "colab": {
          "base_uri": "https://localhost:8080/"
        },
        "id": "gd9ePCF4Ma-R",
        "outputId": "553f5acb-a8b8-4f52-a35c-4c8074bb2c6a"
      },
      "execution_count": null,
      "outputs": [
        {
          "output_type": "stream",
          "name": "stdout",
          "text": [
            "Enter a string:good morning,hope you have a wonderful day.\n",
            "String without punctuation marks: good morninghope you have a wonderful day\n"
          ]
        }
      ]
    },
    {
      "cell_type": "code",
      "source": [
        "#20\n",
        "number_list = [1, 2, 3, 4, 5]\n",
        "total = 0\n",
        "for num in number_list:\n",
        "  total += num\n",
        "  print(\"sum of the list no.s:\",total)"
      ],
      "metadata": {
        "colab": {
          "base_uri": "https://localhost:8080/"
        },
        "id": "ewd5edBXMr8u",
        "outputId": "f3e67b74-b61b-4030-eec0-d472e226c626"
      },
      "execution_count": null,
      "outputs": [
        {
          "output_type": "stream",
          "name": "stdout",
          "text": [
            "sum of the list no.s: 1\n",
            "sum of the list no.s: 3\n",
            "sum of the list no.s: 6\n",
            "sum of the list no.s: 10\n",
            "sum of the list no.s: 15\n"
          ]
        }
      ]
    },
    {
      "cell_type": "code",
      "source": [
        "#21\n",
        "input_list = input(\"Enter the list: \")\n",
        "element = input(\"Enter the element: \")\n",
        "count = 0\n",
        "for i in input_list:\n",
        "    if i == element:\n",
        "        count += 1\n",
        "print(\"The occurence of the element:\",input_list.count(element))\n"
      ],
      "metadata": {
        "colab": {
          "base_uri": "https://localhost:8080/"
        },
        "id": "2YrX4FalPMBz",
        "outputId": "9681b3fd-bf3b-4761-91e8-01240eb36b44"
      },
      "execution_count": null,
      "outputs": [
        {
          "output_type": "stream",
          "name": "stdout",
          "text": [
            "Enter the list: 1, 2, 3, 3, Hello, 5.6\n",
            "Enter the element: 3\n",
            "The occurence of the element: 2\n"
          ]
        }
      ]
    },
    {
      "cell_type": "code",
      "source": [
        "#22\n",
        "try:\n",
        "    l = []\n",
        "    while True:\n",
        "        l.append(int(input(\"Enter list of numbers and enter any non-integer character to stop entering....\")))\n",
        "except:\n",
        "    print(\"list of numbers:\",l)\n",
        "    print(\"The maximum value in\",l,\"is:\",max(l))\n",
        "    print(\"The minimum value in\",l,\"is:\",min(l))"
      ],
      "metadata": {
        "colab": {
          "base_uri": "https://localhost:8080/"
        },
        "id": "uAtjCDtTRzaa",
        "outputId": "cb3efcb4-cc37-4cd4-d1c5-f98610ed93bd"
      },
      "execution_count": null,
      "outputs": [
        {
          "output_type": "stream",
          "name": "stdout",
          "text": [
            "Enter list of numbers and enter any non-integer character to stop entering....5\n",
            "Enter list of numbers and enter any non-integer character to stop entering....8\n",
            "Enter list of numbers and enter any non-integer character to stop entering....9\n",
            "Enter list of numbers and enter any non-integer character to stop entering....s\n",
            "list of numbers: [5, 8, 9]\n",
            "The maximum value in [5, 8, 9] is: 9\n",
            "The minimum value in [5, 8, 9] is: 5\n"
          ]
        }
      ]
    },
    {
      "cell_type": "code",
      "source": [
        "#23\n",
        "def celsius_to_fahrenheit(celsius):\n",
        "    return (celsius * 9/5) + 32\n",
        "\n",
        "def fahrenheit_to_celsius(fahrenheit):\n",
        "    return (fahrenheit - 32) * 5/9\n",
        "\n",
        "temp = eval(input(\"Enter temperature to be converted:\"))\n",
        "scale =input(\"Enter C for celsius to farenheit conversion and F for farenheit to celsius conversion\")\n",
        "\n",
        "if scale.upper() == 'C':\n",
        "    print(f\"{temp}°C is {celsius_to_fahrenheit(temp)}°F\")\n",
        "elif scale.upper() == 'F':\n",
        "    print(f\"{temp}°F is {fahrenheit_to_celsius(temp)}°C\")\n",
        "else:\n",
        "    print(\"Invalid scale!\")"
      ],
      "metadata": {
        "colab": {
          "base_uri": "https://localhost:8080/"
        },
        "id": "YMXRr73nTMgz",
        "outputId": "e7498180-712b-4f26-ef66-43bf4c66112b"
      },
      "execution_count": null,
      "outputs": [
        {
          "output_type": "stream",
          "name": "stdout",
          "text": [
            "Enter temperature to be converted:37.6\n",
            "Enter C for celsius to farenheit conversion and F for farenheit to celsius conversionC\n",
            "37.6°C is 99.68°F\n"
          ]
        }
      ]
    },
    {
      "cell_type": "code",
      "source": [
        "#24\n",
        "def calculator(num1, num2, operator):\n",
        "    if operator == '+':\n",
        "        return num1 + num2\n",
        "    elif operator == '-':\n",
        "        return num1 - num2\n",
        "    elif operator == '*':\n",
        "        return num1 * num2\n",
        "    elif operator == '/':\n",
        "        return num1 / num2\n",
        "    else:\n",
        "        return \"Invalid operator\"\n",
        "\n",
        "num1 = int(input(\"Enter first number:\") )\n",
        "num2 = int(input(\"Enter second number:\") )\n",
        "operator = input(\"Enter any operator (+,-,*,/):4\")\n",
        "print(\"The result is:\",calculator(num1, num2, operator))"
      ],
      "metadata": {
        "colab": {
          "base_uri": "https://localhost:8080/"
        },
        "id": "Hq70h_TTTNFR",
        "outputId": "d26af149-60c2-4f6a-ebfd-36608d21c218"
      },
      "execution_count": null,
      "outputs": [
        {
          "output_type": "stream",
          "name": "stdout",
          "text": [
            "Enter first number:2\n",
            "Enter second number:3\n",
            "Enter any operator (+,-,*,/):4*\n",
            "The result is: 6\n"
          ]
        }
      ]
    },
    {
      "cell_type": "code",
      "source": [
        "#25\n",
        "def copy_file_contents(source, destination):\n",
        "    with open(source, 'r') as src:\n",
        "        contents = src.read()\n",
        "    with open(destination, 'w') as dest:\n",
        "        dest.write(contents)\n",
        "\n",
        "source = 'sample_text.txt'\n",
        "destination = 'destination.txt'\n",
        "copy_file_contents(source, destination)\n",
        "print(f\"Contents copied from {source} to {destination}\")"
      ],
      "metadata": {
        "colab": {
          "base_uri": "https://localhost:8080/"
        },
        "id": "GT_1JqeWTYU3",
        "outputId": "2003bcbc-bf05-441f-e037-fc2aa450ab34"
      },
      "execution_count": null,
      "outputs": [
        {
          "output_type": "stream",
          "name": "stdout",
          "text": [
            "Contents copied from sample_text.txt to destination.txt\n"
          ]
        }
      ]
    },
    {
      "cell_type": "code",
      "source": [
        "#26\n",
        "def check_prefix_suffix(string, prefix, suffix):\n",
        "    starts_with = string.startswith(prefix)\n",
        "    ends_with = string.endswith(suffix)\n",
        "    return starts_with, ends_with\n",
        "\n",
        "string = input(\"Enter a string: \")\n",
        "prefix = input(\"Enter a prefix to check: \")\n",
        "suffix = input(\"Enter a suffix to check: \")\n",
        "\n",
        "starts_with, ends_with = check_prefix_suffix(string, prefix, suffix)\n",
        "\n",
        "if starts_with:\n",
        "    print(f\"The string starts with the prefix '{prefix}'.\")\n",
        "else:\n",
        "    print(f\"The string does not start with the prefix '{prefix}'.\")\n",
        "\n",
        "if ends_with:\n",
        "    print(f\"The string ends with the suffix '{suffix}'.\")\n",
        "else:\n",
        "    print(f\"The string does not end with the suffix '{suffix}'.\")\n",
        "\n"
      ],
      "metadata": {
        "colab": {
          "base_uri": "https://localhost:8080/"
        },
        "id": "PNCJjjVUTZCt",
        "outputId": "88289bc9-56f7-492a-b152-2877f1f74d7e"
      },
      "execution_count": null,
      "outputs": [
        {
          "output_type": "stream",
          "name": "stdout",
          "text": [
            "Enter a string: hello world\n",
            "Enter a prefix to check: hello\n",
            "Enter a suffix to check: world\n",
            "The string starts with the prefix 'hello'.\n",
            "The string ends with the suffix 'world'.\n"
          ]
        }
      ]
    },
    {
      "cell_type": "code",
      "source": [
        "\n",
        "#27\n",
        "str1=input(\"Enter a string:\")\n",
        "l=[]\n",
        "for i in str1:\n",
        "    l.append(i)\n",
        "print(\"List of characters of string is:\",l)"
      ],
      "metadata": {
        "colab": {
          "base_uri": "https://localhost:8080/"
        },
        "id": "h_vFaqasTwcU",
        "outputId": "48e2d4f2-42e3-4ce4-cf5e-ed5e0db2d69c"
      },
      "execution_count": null,
      "outputs": [
        {
          "output_type": "stream",
          "name": "stdout",
          "text": [
            "Enter a string:Bye\n",
            "List of characters of string is: ['B', 'y', 'e']\n"
          ]
        }
      ]
    }
  ]
}